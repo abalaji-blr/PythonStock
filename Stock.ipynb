{
 "cells": [
  {
   "cell_type": "markdown",
   "metadata": {},
   "source": [
    "# Retrieving stock price from web"
   ]
  },
  {
   "cell_type": "code",
   "execution_count": 1,
   "metadata": {
    "collapsed": false
   },
   "outputs": [],
   "source": [
    "#import pandas as pd\n",
    "#import datareader\n",
    "import pandas_datareader.data as web\n",
    "#from pandas_datareader.data import DataReader"
   ]
  },
  {
   "cell_type": "code",
   "execution_count": 17,
   "metadata": {
    "collapsed": true
   },
   "outputs": [],
   "source": [
    "import matplotlib.pyplot as plt"
   ]
  },
  {
   "cell_type": "code",
   "execution_count": 2,
   "metadata": {
    "collapsed": false
   },
   "outputs": [
    {
     "name": "stdout",
     "output_type": "stream",
     "text": [
      "<function DataReader at 0x10e66b410>\n"
     ]
    }
   ],
   "source": [
    "print web.DataReader"
   ]
  },
  {
   "cell_type": "code",
   "execution_count": 3,
   "metadata": {
    "collapsed": true
   },
   "outputs": [],
   "source": [
    "# import date time\n",
    "from datetime import date"
   ]
  },
  {
   "cell_type": "code",
   "execution_count": 4,
   "metadata": {
    "collapsed": false
   },
   "outputs": [
    {
     "name": "stdout",
     "output_type": "stream",
     "text": [
      "<type 'datetime.date'>\n"
     ]
    }
   ],
   "source": [
    "print date"
   ]
  },
  {
   "cell_type": "code",
   "execution_count": 5,
   "metadata": {
    "collapsed": true
   },
   "outputs": [],
   "source": [
    "?date"
   ]
  },
  {
   "cell_type": "code",
   "execution_count": 19,
   "metadata": {
    "collapsed": true
   },
   "outputs": [],
   "source": [
    "# Set start and end dates\n",
    "start = date(2017,1,1)\n",
    "end = date(2017,12,31)\n",
    "\n",
    "# Set the ticker\n",
    "ticker = 'AAPL'\n",
    "\n",
    "# Set the data source\n",
    "data_source = 'yahoo'\n",
    "#data_source = 'google'"
   ]
  },
  {
   "cell_type": "code",
   "execution_count": 20,
   "metadata": {
    "collapsed": false
   },
   "outputs": [],
   "source": [
    "# Import the stock prices\n",
    "stock_prices = web.DataReader(ticker, data_source, start, end)"
   ]
  },
  {
   "cell_type": "code",
   "execution_count": 21,
   "metadata": {
    "collapsed": false
   },
   "outputs": [
    {
     "name": "stdout",
     "output_type": "stream",
     "text": [
      "                  Open        High         Low       Close   Adj Close  \\\n",
      "Date                                                                     \n",
      "2017-01-03  115.800003  116.330002  114.760002  116.150002  114.311760   \n",
      "2017-01-04  115.849998  116.510002  115.750000  116.019997  114.183815   \n",
      "2017-01-05  115.919998  116.860001  115.809998  116.610001  114.764473   \n",
      "2017-01-06  116.779999  118.160004  116.470001  117.910004  116.043915   \n",
      "2017-01-09  117.949997  119.430000  117.940002  118.989998  117.106812   \n",
      "\n",
      "              Volume  \n",
      "Date                  \n",
      "2017-01-03  28781900  \n",
      "2017-01-04  21118100  \n",
      "2017-01-05  22193600  \n",
      "2017-01-06  31751900  \n",
      "2017-01-09  33561900  \n",
      "<class 'pandas.core.frame.DataFrame'>\n",
      "DatetimeIndex: 251 entries, 2017-01-03 to 2017-12-29\n",
      "Data columns (total 6 columns):\n",
      "Open         251 non-null float64\n",
      "High         251 non-null float64\n",
      "Low          251 non-null float64\n",
      "Close        251 non-null float64\n",
      "Adj Close    251 non-null float64\n",
      "Volume       251 non-null int64\n",
      "dtypes: float64(5), int64(1)\n",
      "memory usage: 13.7 KB\n"
     ]
    }
   ],
   "source": [
    "# Display and inspect the result\n",
    "print(stock_prices.head())\n",
    "stock_prices.info()"
   ]
  },
  {
   "cell_type": "code",
   "execution_count": 22,
   "metadata": {
    "collapsed": false
   },
   "outputs": [
    {
     "data": {
      "image/png": "[encoded data removed]",
      "text/plain": [
       "<matplotlib.figure.Figure at 0x11376b590>"
      ]
     },
     "metadata": {},
     "output_type": "display_data"
    }
   ],
   "source": [
    "# plot it\n",
    "stock_prices['Close'].plot(title=ticker)\n",
    "plt.show()"
   ]
  },
  {
   "cell_type": "code",
   "execution_count": 23,
   "metadata": {
    "collapsed": false
   },
   "outputs": [],
   "source": [
    "#q = web.get_quote_yahoo('AMZN')"
   ]
  },
  {
   "cell_type": "code",
   "execution_count": null,
   "metadata": {
    "collapsed": true
   },
   "outputs": [],
   "source": []
  },
  {
   "cell_type": "code",
   "execution_count": null,
   "metadata": {
    "collapsed": true
   },
   "outputs": [],
   "source": []
  }
 ],
 "metadata": {
  "kernelspec": {
   "display_name": "Python 2",
   "language": "python",
   "name": "python2"
  },
  "language_info": {
   "codemirror_mode": {
    "name": "ipython",
    "version": 2
   },
   "file_extension": ".py",
   "mimetype": "text/x-python",
   "name": "python",
   "nbconvert_exporter": "python",
   "pygments_lexer": "ipython2",
   "version": "2.7.13"
  }
 },
 "nbformat": 4,
 "nbformat_minor": 2
}
