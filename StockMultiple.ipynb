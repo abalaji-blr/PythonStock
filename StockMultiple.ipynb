{
 "cells": [
  {
   "cell_type": "markdown",
   "metadata": {},
   "source": [
    "# Retrieving Multiple ticker stock data"
   ]
  },
  {
   "cell_type": "code",
   "execution_count": 37,
   "metadata": {
    "collapsed": true
   },
   "outputs": [],
   "source": [
    "import pandas as pd"
   ]
  },
  {
   "cell_type": "code",
   "execution_count": 38,
   "metadata": {
    "collapsed": false
   },
   "outputs": [
    {
     "name": "stdout",
     "output_type": "stream",
     "text": [
      "0.20.3\n"
     ]
    }
   ],
   "source": [
    "print pd.__version__"
   ]
  },
  {
   "cell_type": "code",
   "execution_count": 1,
   "metadata": {
    "collapsed": true
   },
   "outputs": [],
   "source": [
    "import pandas_datareader as web"
   ]
  },
  {
   "cell_type": "code",
   "execution_count": 2,
   "metadata": {
    "collapsed": false
   },
   "outputs": [
    {
     "name": "stdout",
     "output_type": "stream",
     "text": [
      "0.5.0\n"
     ]
    }
   ],
   "source": [
    "print web.__version__"
   ]
  },
  {
   "cell_type": "code",
   "execution_count": 3,
   "metadata": {
    "collapsed": true
   },
   "outputs": [],
   "source": [
    "import matplotlib.pyplot as plt"
   ]
  },
  {
   "cell_type": "code",
   "execution_count": 11,
   "metadata": {
    "collapsed": true
   },
   "outputs": [],
   "source": [
    "from datetime import date"
   ]
  },
  {
   "cell_type": "code",
   "execution_count": 20,
   "metadata": {
    "collapsed": false
   },
   "outputs": [],
   "source": [
    "## get the data for the tickers\n",
    "tickers = ['AMZN', 'GOOG', 'AAPL', 'MSFT']\n",
    "source = 'yahoo'\n",
    "start = date(2017,1,1)\n",
    "end = date(2017,12,31)"
   ]
  },
  {
   "cell_type": "code",
   "execution_count": 31,
   "metadata": {
    "collapsed": false
   },
   "outputs": [
    {
     "data": {
      "text/plain": [
       "'AMZN'"
      ]
     },
     "execution_count": 31,
     "metadata": {},
     "output_type": "execute_result"
    }
   ],
   "source": [
    "tickers[0]"
   ]
  },
  {
   "cell_type": "code",
   "execution_count": 32,
   "metadata": {
    "collapsed": false
   },
   "outputs": [],
   "source": [
    "amazon = web.DataReader(tickers[0], source, start,end)"
   ]
  },
  {
   "cell_type": "code",
   "execution_count": 33,
   "metadata": {
    "collapsed": false
   },
   "outputs": [
    {
     "data": {
      "text/html": [
       "<div>\n",
       "<style>\n",
       "    .dataframe thead tr:only-child th {\n",
       "        text-align: right;\n",
       "    }\n",
       "\n",
       "    .dataframe thead th {\n",
       "        text-align: left;\n",
       "    }\n",
       "\n",
       "    .dataframe tbody tr th {\n",
       "        vertical-align: top;\n",
       "    }\n",
       "</style>\n",
       "<table border=\"1\" class=\"dataframe\">\n",
       "  <thead>\n",
       "    <tr style=\"text-align: right;\">\n",
       "      <th></th>\n",
       "      <th>Open</th>\n",
       "      <th>High</th>\n",
       "      <th>Low</th>\n",
       "      <th>Close</th>\n",
       "      <th>Adj Close</th>\n",
       "      <th>Volume</th>\n",
       "    </tr>\n",
       "    <tr>\n",
       "      <th>Date</th>\n",
       "      <th></th>\n",
       "      <th></th>\n",
       "      <th></th>\n",
       "      <th></th>\n",
       "      <th></th>\n",
       "      <th></th>\n",
       "    </tr>\n",
       "  </thead>\n",
       "  <tbody>\n",
       "    <tr>\n",
       "      <th>2017-01-03</th>\n",
       "      <td>757.919983</td>\n",
       "      <td>758.760010</td>\n",
       "      <td>747.700012</td>\n",
       "      <td>753.669983</td>\n",
       "      <td>753.669983</td>\n",
       "      <td>3521100</td>\n",
       "    </tr>\n",
       "    <tr>\n",
       "      <th>2017-01-04</th>\n",
       "      <td>758.390015</td>\n",
       "      <td>759.679993</td>\n",
       "      <td>754.200012</td>\n",
       "      <td>757.179993</td>\n",
       "      <td>757.179993</td>\n",
       "      <td>2510500</td>\n",
       "    </tr>\n",
       "    <tr>\n",
       "      <th>2017-01-05</th>\n",
       "      <td>761.549988</td>\n",
       "      <td>782.400024</td>\n",
       "      <td>760.260010</td>\n",
       "      <td>780.450012</td>\n",
       "      <td>780.450012</td>\n",
       "      <td>5830100</td>\n",
       "    </tr>\n",
       "    <tr>\n",
       "      <th>2017-01-06</th>\n",
       "      <td>782.359985</td>\n",
       "      <td>799.440002</td>\n",
       "      <td>778.479980</td>\n",
       "      <td>795.989990</td>\n",
       "      <td>795.989990</td>\n",
       "      <td>5986200</td>\n",
       "    </tr>\n",
       "    <tr>\n",
       "      <th>2017-01-09</th>\n",
       "      <td>798.000000</td>\n",
       "      <td>801.770020</td>\n",
       "      <td>791.770020</td>\n",
       "      <td>796.919983</td>\n",
       "      <td>796.919983</td>\n",
       "      <td>3440100</td>\n",
       "    </tr>\n",
       "    <tr>\n",
       "      <th>2017-01-10</th>\n",
       "      <td>796.599976</td>\n",
       "      <td>798.000000</td>\n",
       "      <td>789.539978</td>\n",
       "      <td>795.900024</td>\n",
       "      <td>795.900024</td>\n",
       "      <td>2558400</td>\n",
       "    </tr>\n",
       "    <tr>\n",
       "      <th>2017-01-11</th>\n",
       "      <td>793.659973</td>\n",
       "      <td>799.500000</td>\n",
       "      <td>789.510010</td>\n",
       "      <td>799.020020</td>\n",
       "      <td>799.020020</td>\n",
       "      <td>2992800</td>\n",
       "    </tr>\n",
       "    <tr>\n",
       "      <th>2017-01-12</th>\n",
       "      <td>800.309998</td>\n",
       "      <td>814.130005</td>\n",
       "      <td>799.500000</td>\n",
       "      <td>813.640015</td>\n",
       "      <td>813.640015</td>\n",
       "      <td>4873900</td>\n",
       "    </tr>\n",
       "    <tr>\n",
       "      <th>2017-01-13</th>\n",
       "      <td>814.320007</td>\n",
       "      <td>821.650024</td>\n",
       "      <td>811.400024</td>\n",
       "      <td>817.140015</td>\n",
       "      <td>817.140015</td>\n",
       "      <td>3791900</td>\n",
       "    </tr>\n",
       "    <tr>\n",
       "      <th>2017-01-17</th>\n",
       "      <td>815.700012</td>\n",
       "      <td>816.000000</td>\n",
       "      <td>803.440002</td>\n",
       "      <td>809.719971</td>\n",
       "      <td>809.719971</td>\n",
       "      <td>3659400</td>\n",
       "    </tr>\n",
       "    <tr>\n",
       "      <th>2017-01-18</th>\n",
       "      <td>809.500000</td>\n",
       "      <td>811.729980</td>\n",
       "      <td>804.270020</td>\n",
       "      <td>807.479980</td>\n",
       "      <td>807.479980</td>\n",
       "      <td>2354200</td>\n",
       "    </tr>\n",
       "    <tr>\n",
       "      <th>2017-01-19</th>\n",
       "      <td>810.000000</td>\n",
       "      <td>813.510010</td>\n",
       "      <td>807.320007</td>\n",
       "      <td>809.039978</td>\n",
       "      <td>809.039978</td>\n",
       "      <td>2540800</td>\n",
       "    </tr>\n",
       "    <tr>\n",
       "      <th>2017-01-20</th>\n",
       "      <td>815.280029</td>\n",
       "      <td>816.020020</td>\n",
       "      <td>806.260010</td>\n",
       "      <td>808.330017</td>\n",
       "      <td>808.330017</td>\n",
       "      <td>3376200</td>\n",
       "    </tr>\n",
       "    <tr>\n",
       "      <th>2017-01-23</th>\n",
       "      <td>806.799988</td>\n",
       "      <td>818.500000</td>\n",
       "      <td>805.080017</td>\n",
       "      <td>817.880005</td>\n",
       "      <td>817.880005</td>\n",
       "      <td>2797500</td>\n",
       "    </tr>\n",
       "    <tr>\n",
       "      <th>2017-01-24</th>\n",
       "      <td>822.000000</td>\n",
       "      <td>823.989990</td>\n",
       "      <td>814.500000</td>\n",
       "      <td>822.440002</td>\n",
       "      <td>822.440002</td>\n",
       "      <td>2971700</td>\n",
       "    </tr>\n",
       "    <tr>\n",
       "      <th>2017-01-25</th>\n",
       "      <td>825.789978</td>\n",
       "      <td>837.419983</td>\n",
       "      <td>825.289978</td>\n",
       "      <td>836.520020</td>\n",
       "      <td>836.520020</td>\n",
       "      <td>3922600</td>\n",
       "    </tr>\n",
       "    <tr>\n",
       "      <th>2017-01-26</th>\n",
       "      <td>835.530029</td>\n",
       "      <td>843.840027</td>\n",
       "      <td>833.000000</td>\n",
       "      <td>839.150024</td>\n",
       "      <td>839.150024</td>\n",
       "      <td>3586300</td>\n",
       "    </tr>\n",
       "    <tr>\n",
       "      <th>2017-01-27</th>\n",
       "      <td>839.000000</td>\n",
       "      <td>839.700012</td>\n",
       "      <td>829.440002</td>\n",
       "      <td>835.770020</td>\n",
       "      <td>835.770020</td>\n",
       "      <td>2998700</td>\n",
       "    </tr>\n",
       "    <tr>\n",
       "      <th>2017-01-30</th>\n",
       "      <td>833.000000</td>\n",
       "      <td>833.500000</td>\n",
       "      <td>816.380005</td>\n",
       "      <td>830.380005</td>\n",
       "      <td>830.380005</td>\n",
       "      <td>3747300</td>\n",
       "    </tr>\n",
       "    <tr>\n",
       "      <th>2017-01-31</th>\n",
       "      <td>823.750000</td>\n",
       "      <td>826.989990</td>\n",
       "      <td>819.559998</td>\n",
       "      <td>823.479980</td>\n",
       "      <td>823.479980</td>\n",
       "      <td>3137200</td>\n",
       "    </tr>\n",
       "    <tr>\n",
       "      <th>2017-02-01</th>\n",
       "      <td>829.210022</td>\n",
       "      <td>833.780029</td>\n",
       "      <td>824.940002</td>\n",
       "      <td>832.349976</td>\n",
       "      <td>832.349976</td>\n",
       "      <td>3850200</td>\n",
       "    </tr>\n",
       "    <tr>\n",
       "      <th>2017-02-02</th>\n",
       "      <td>836.590027</td>\n",
       "      <td>842.489990</td>\n",
       "      <td>828.260010</td>\n",
       "      <td>839.950012</td>\n",
       "      <td>839.950012</td>\n",
       "      <td>7350500</td>\n",
       "    </tr>\n",
       "    <tr>\n",
       "      <th>2017-02-03</th>\n",
       "      <td>806.719971</td>\n",
       "      <td>818.299988</td>\n",
       "      <td>804.000000</td>\n",
       "      <td>810.200012</td>\n",
       "      <td>810.200012</td>\n",
       "      <td>10868800</td>\n",
       "    </tr>\n",
       "    <tr>\n",
       "      <th>2017-02-06</th>\n",
       "      <td>809.799988</td>\n",
       "      <td>810.719971</td>\n",
       "      <td>803.000000</td>\n",
       "      <td>807.640015</td>\n",
       "      <td>807.640015</td>\n",
       "      <td>3897300</td>\n",
       "    </tr>\n",
       "    <tr>\n",
       "      <th>2017-02-07</th>\n",
       "      <td>809.309998</td>\n",
       "      <td>816.159973</td>\n",
       "      <td>807.500000</td>\n",
       "      <td>812.500000</td>\n",
       "      <td>812.500000</td>\n",
       "      <td>3466100</td>\n",
       "    </tr>\n",
       "    <tr>\n",
       "      <th>2017-02-08</th>\n",
       "      <td>812.690002</td>\n",
       "      <td>821.479980</td>\n",
       "      <td>812.500000</td>\n",
       "      <td>819.710022</td>\n",
       "      <td>819.710022</td>\n",
       "      <td>2858000</td>\n",
       "    </tr>\n",
       "    <tr>\n",
       "      <th>2017-02-09</th>\n",
       "      <td>821.599976</td>\n",
       "      <td>825.000000</td>\n",
       "      <td>819.710022</td>\n",
       "      <td>821.359985</td>\n",
       "      <td>821.359985</td>\n",
       "      <td>2484900</td>\n",
       "    </tr>\n",
       "    <tr>\n",
       "      <th>2017-02-10</th>\n",
       "      <td>823.820007</td>\n",
       "      <td>828.000000</td>\n",
       "      <td>822.849976</td>\n",
       "      <td>827.460022</td>\n",
       "      <td>827.460022</td>\n",
       "      <td>2429600</td>\n",
       "    </tr>\n",
       "    <tr>\n",
       "      <th>2017-02-13</th>\n",
       "      <td>831.619995</td>\n",
       "      <td>843.000000</td>\n",
       "      <td>828.549988</td>\n",
       "      <td>836.530029</td>\n",
       "      <td>836.530029</td>\n",
       "      <td>4172600</td>\n",
       "    </tr>\n",
       "    <tr>\n",
       "      <th>2017-02-14</th>\n",
       "      <td>837.000000</td>\n",
       "      <td>838.309998</td>\n",
       "      <td>831.450012</td>\n",
       "      <td>836.390015</td>\n",
       "      <td>836.390015</td>\n",
       "      <td>2787900</td>\n",
       "    </tr>\n",
       "    <tr>\n",
       "      <th>...</th>\n",
       "      <td>...</td>\n",
       "      <td>...</td>\n",
       "      <td>...</td>\n",
       "      <td>...</td>\n",
       "      <td>...</td>\n",
       "      <td>...</td>\n",
       "    </tr>\n",
       "    <tr>\n",
       "      <th>2017-11-16</th>\n",
       "      <td>1130.160034</td>\n",
       "      <td>1138.160034</td>\n",
       "      <td>1130.050049</td>\n",
       "      <td>1137.290039</td>\n",
       "      <td>1137.290039</td>\n",
       "      <td>2213300</td>\n",
       "    </tr>\n",
       "    <tr>\n",
       "      <th>2017-11-17</th>\n",
       "      <td>1138.280029</td>\n",
       "      <td>1138.800049</td>\n",
       "      <td>1125.810059</td>\n",
       "      <td>1129.880005</td>\n",
       "      <td>1129.880005</td>\n",
       "      <td>2413400</td>\n",
       "    </tr>\n",
       "    <tr>\n",
       "      <th>2017-11-20</th>\n",
       "      <td>1129.770020</td>\n",
       "      <td>1133.420044</td>\n",
       "      <td>1122.550049</td>\n",
       "      <td>1126.310059</td>\n",
       "      <td>1126.310059</td>\n",
       "      <td>2163900</td>\n",
       "    </tr>\n",
       "    <tr>\n",
       "      <th>2017-11-21</th>\n",
       "      <td>1132.859985</td>\n",
       "      <td>1140.000000</td>\n",
       "      <td>1128.199951</td>\n",
       "      <td>1139.489990</td>\n",
       "      <td>1139.489990</td>\n",
       "      <td>2479400</td>\n",
       "    </tr>\n",
       "    <tr>\n",
       "      <th>2017-11-22</th>\n",
       "      <td>1141.000000</td>\n",
       "      <td>1160.270020</td>\n",
       "      <td>1141.000000</td>\n",
       "      <td>1156.160034</td>\n",
       "      <td>1156.160034</td>\n",
       "      <td>3555300</td>\n",
       "    </tr>\n",
       "    <tr>\n",
       "      <th>2017-11-24</th>\n",
       "      <td>1160.699951</td>\n",
       "      <td>1186.839966</td>\n",
       "      <td>1160.699951</td>\n",
       "      <td>1186.000000</td>\n",
       "      <td>1186.000000</td>\n",
       "      <td>3528000</td>\n",
       "    </tr>\n",
       "    <tr>\n",
       "      <th>2017-11-27</th>\n",
       "      <td>1202.660034</td>\n",
       "      <td>1213.410034</td>\n",
       "      <td>1191.150024</td>\n",
       "      <td>1195.829956</td>\n",
       "      <td>1195.829956</td>\n",
       "      <td>6744000</td>\n",
       "    </tr>\n",
       "    <tr>\n",
       "      <th>2017-11-28</th>\n",
       "      <td>1204.880005</td>\n",
       "      <td>1205.339966</td>\n",
       "      <td>1188.520020</td>\n",
       "      <td>1193.599976</td>\n",
       "      <td>1193.599976</td>\n",
       "      <td>4559400</td>\n",
       "    </tr>\n",
       "    <tr>\n",
       "      <th>2017-11-29</th>\n",
       "      <td>1194.800049</td>\n",
       "      <td>1194.800049</td>\n",
       "      <td>1145.189941</td>\n",
       "      <td>1161.270020</td>\n",
       "      <td>1161.270020</td>\n",
       "      <td>9257500</td>\n",
       "    </tr>\n",
       "    <tr>\n",
       "      <th>2017-11-30</th>\n",
       "      <td>1167.099976</td>\n",
       "      <td>1178.569946</td>\n",
       "      <td>1160.000000</td>\n",
       "      <td>1176.750000</td>\n",
       "      <td>1176.750000</td>\n",
       "      <td>4509200</td>\n",
       "    </tr>\n",
       "    <tr>\n",
       "      <th>2017-12-01</th>\n",
       "      <td>1172.050049</td>\n",
       "      <td>1179.650024</td>\n",
       "      <td>1152.000000</td>\n",
       "      <td>1162.349976</td>\n",
       "      <td>1162.349976</td>\n",
       "      <td>4107100</td>\n",
       "    </tr>\n",
       "    <tr>\n",
       "      <th>2017-12-04</th>\n",
       "      <td>1173.849976</td>\n",
       "      <td>1175.199951</td>\n",
       "      <td>1128.000000</td>\n",
       "      <td>1133.949951</td>\n",
       "      <td>1133.949951</td>\n",
       "      <td>5931900</td>\n",
       "    </tr>\n",
       "    <tr>\n",
       "      <th>2017-12-05</th>\n",
       "      <td>1128.260010</td>\n",
       "      <td>1159.270020</td>\n",
       "      <td>1124.739990</td>\n",
       "      <td>1141.569946</td>\n",
       "      <td>1141.569946</td>\n",
       "      <td>4079800</td>\n",
       "    </tr>\n",
       "    <tr>\n",
       "      <th>2017-12-06</th>\n",
       "      <td>1137.989990</td>\n",
       "      <td>1155.890015</td>\n",
       "      <td>1136.079956</td>\n",
       "      <td>1152.349976</td>\n",
       "      <td>1152.349976</td>\n",
       "      <td>2853300</td>\n",
       "    </tr>\n",
       "    <tr>\n",
       "      <th>2017-12-07</th>\n",
       "      <td>1156.589966</td>\n",
       "      <td>1163.189941</td>\n",
       "      <td>1151.000000</td>\n",
       "      <td>1159.790039</td>\n",
       "      <td>1159.790039</td>\n",
       "      <td>2511600</td>\n",
       "    </tr>\n",
       "    <tr>\n",
       "      <th>2017-12-08</th>\n",
       "      <td>1170.400024</td>\n",
       "      <td>1172.790039</td>\n",
       "      <td>1157.099976</td>\n",
       "      <td>1162.000000</td>\n",
       "      <td>1162.000000</td>\n",
       "      <td>3050100</td>\n",
       "    </tr>\n",
       "    <tr>\n",
       "      <th>2017-12-11</th>\n",
       "      <td>1164.599976</td>\n",
       "      <td>1169.900024</td>\n",
       "      <td>1157.000000</td>\n",
       "      <td>1168.920044</td>\n",
       "      <td>1168.920044</td>\n",
       "      <td>2363500</td>\n",
       "    </tr>\n",
       "    <tr>\n",
       "      <th>2017-12-12</th>\n",
       "      <td>1166.510010</td>\n",
       "      <td>1173.599976</td>\n",
       "      <td>1161.609985</td>\n",
       "      <td>1165.079956</td>\n",
       "      <td>1165.079956</td>\n",
       "      <td>2235900</td>\n",
       "    </tr>\n",
       "    <tr>\n",
       "      <th>2017-12-13</th>\n",
       "      <td>1170.000000</td>\n",
       "      <td>1170.869995</td>\n",
       "      <td>1160.270020</td>\n",
       "      <td>1164.130005</td>\n",
       "      <td>1164.130005</td>\n",
       "      <td>2616800</td>\n",
       "    </tr>\n",
       "    <tr>\n",
       "      <th>2017-12-14</th>\n",
       "      <td>1163.709961</td>\n",
       "      <td>1177.930054</td>\n",
       "      <td>1162.449951</td>\n",
       "      <td>1174.260010</td>\n",
       "      <td>1174.260010</td>\n",
       "      <td>3214300</td>\n",
       "    </tr>\n",
       "    <tr>\n",
       "      <th>2017-12-15</th>\n",
       "      <td>1179.030029</td>\n",
       "      <td>1182.750000</td>\n",
       "      <td>1169.329956</td>\n",
       "      <td>1179.140015</td>\n",
       "      <td>1179.140015</td>\n",
       "      <td>4778600</td>\n",
       "    </tr>\n",
       "    <tr>\n",
       "      <th>2017-12-18</th>\n",
       "      <td>1187.369995</td>\n",
       "      <td>1194.780029</td>\n",
       "      <td>1180.910034</td>\n",
       "      <td>1190.579956</td>\n",
       "      <td>1190.579956</td>\n",
       "      <td>2947600</td>\n",
       "    </tr>\n",
       "    <tr>\n",
       "      <th>2017-12-19</th>\n",
       "      <td>1189.150024</td>\n",
       "      <td>1192.969971</td>\n",
       "      <td>1179.140015</td>\n",
       "      <td>1187.380005</td>\n",
       "      <td>1187.380005</td>\n",
       "      <td>2587800</td>\n",
       "    </tr>\n",
       "    <tr>\n",
       "      <th>2017-12-20</th>\n",
       "      <td>1190.500000</td>\n",
       "      <td>1191.000000</td>\n",
       "      <td>1176.000000</td>\n",
       "      <td>1177.619995</td>\n",
       "      <td>1177.619995</td>\n",
       "      <td>2371200</td>\n",
       "    </tr>\n",
       "    <tr>\n",
       "      <th>2017-12-21</th>\n",
       "      <td>1175.900024</td>\n",
       "      <td>1179.170044</td>\n",
       "      <td>1167.640015</td>\n",
       "      <td>1174.760010</td>\n",
       "      <td>1174.760010</td>\n",
       "      <td>2123100</td>\n",
       "    </tr>\n",
       "    <tr>\n",
       "      <th>2017-12-22</th>\n",
       "      <td>1172.079956</td>\n",
       "      <td>1174.619995</td>\n",
       "      <td>1167.829956</td>\n",
       "      <td>1168.359985</td>\n",
       "      <td>1168.359985</td>\n",
       "      <td>1585100</td>\n",
       "    </tr>\n",
       "    <tr>\n",
       "      <th>2017-12-26</th>\n",
       "      <td>1168.359985</td>\n",
       "      <td>1178.319946</td>\n",
       "      <td>1160.550049</td>\n",
       "      <td>1176.760010</td>\n",
       "      <td>1176.760010</td>\n",
       "      <td>2005200</td>\n",
       "    </tr>\n",
       "    <tr>\n",
       "      <th>2017-12-27</th>\n",
       "      <td>1179.910034</td>\n",
       "      <td>1187.290039</td>\n",
       "      <td>1175.609985</td>\n",
       "      <td>1182.260010</td>\n",
       "      <td>1182.260010</td>\n",
       "      <td>1867200</td>\n",
       "    </tr>\n",
       "    <tr>\n",
       "      <th>2017-12-28</th>\n",
       "      <td>1189.000000</td>\n",
       "      <td>1190.099976</td>\n",
       "      <td>1184.380005</td>\n",
       "      <td>1186.099976</td>\n",
       "      <td>1186.099976</td>\n",
       "      <td>1841700</td>\n",
       "    </tr>\n",
       "    <tr>\n",
       "      <th>2017-12-29</th>\n",
       "      <td>1182.349976</td>\n",
       "      <td>1184.000000</td>\n",
       "      <td>1167.500000</td>\n",
       "      <td>1169.469971</td>\n",
       "      <td>1169.469971</td>\n",
       "      <td>2688400</td>\n",
       "    </tr>\n",
       "  </tbody>\n",
       "</table>\n",
       "<p>251 rows × 6 columns</p>\n",
       "</div>"
      ],
      "text/plain": [
       "                   Open         High          Low        Close    Adj Close  \\\n",
       "Date                                                                          \n",
       "2017-01-03   757.919983   758.760010   747.700012   753.669983   753.669983   \n",
       "2017-01-04   758.390015   759.679993   754.200012   757.179993   757.179993   \n",
       "2017-01-05   761.549988   782.400024   760.260010   780.450012   780.450012   \n",
       "2017-01-06   782.359985   799.440002   778.479980   795.989990   795.989990   \n",
       "2017-01-09   798.000000   801.770020   791.770020   796.919983   796.919983   \n",
       "2017-01-10   796.599976   798.000000   789.539978   795.900024   795.900024   \n",
       "2017-01-11   793.659973   799.500000   789.510010   799.020020   799.020020   \n",
       "2017-01-12   800.309998   814.130005   799.500000   813.640015   813.640015   \n",
       "2017-01-13   814.320007   821.650024   811.400024   817.140015   817.140015   \n",
       "2017-01-17   815.700012   816.000000   803.440002   809.719971   809.719971   \n",
       "2017-01-18   809.500000   811.729980   804.270020   807.479980   807.479980   \n",
       "2017-01-19   810.000000   813.510010   807.320007   809.039978   809.039978   \n",
       "2017-01-20   815.280029   816.020020   806.260010   808.330017   808.330017   \n",
       "2017-01-23   806.799988   818.500000   805.080017   817.880005   817.880005   \n",
       "2017-01-24   822.000000   823.989990   814.500000   822.440002   822.440002   \n",
       "2017-01-25   825.789978   837.419983   825.289978   836.520020   836.520020   \n",
       "2017-01-26   835.530029   843.840027   833.000000   839.150024   839.150024   \n",
       "2017-01-27   839.000000   839.700012   829.440002   835.770020   835.770020   \n",
       "2017-01-30   833.000000   833.500000   816.380005   830.380005   830.380005   \n",
       "2017-01-31   823.750000   826.989990   819.559998   823.479980   823.479980   \n",
       "2017-02-01   829.210022   833.780029   824.940002   832.349976   832.349976   \n",
       "2017-02-02   836.590027   842.489990   828.260010   839.950012   839.950012   \n",
       "2017-02-03   806.719971   818.299988   804.000000   810.200012   810.200012   \n",
       "2017-02-06   809.799988   810.719971   803.000000   807.640015   807.640015   \n",
       "2017-02-07   809.309998   816.159973   807.500000   812.500000   812.500000   \n",
       "2017-02-08   812.690002   821.479980   812.500000   819.710022   819.710022   \n",
       "2017-02-09   821.599976   825.000000   819.710022   821.359985   821.359985   \n",
       "2017-02-10   823.820007   828.000000   822.849976   827.460022   827.460022   \n",
       "2017-02-13   831.619995   843.000000   828.549988   836.530029   836.530029   \n",
       "2017-02-14   837.000000   838.309998   831.450012   836.390015   836.390015   \n",
       "...                 ...          ...          ...          ...          ...   \n",
       "2017-11-16  1130.160034  1138.160034  1130.050049  1137.290039  1137.290039   \n",
       "2017-11-17  1138.280029  1138.800049  1125.810059  1129.880005  1129.880005   \n",
       "2017-11-20  1129.770020  1133.420044  1122.550049  1126.310059  1126.310059   \n",
       "2017-11-21  1132.859985  1140.000000  1128.199951  1139.489990  1139.489990   \n",
       "2017-11-22  1141.000000  1160.270020  1141.000000  1156.160034  1156.160034   \n",
       "2017-11-24  1160.699951  1186.839966  1160.699951  1186.000000  1186.000000   \n",
       "2017-11-27  1202.660034  1213.410034  1191.150024  1195.829956  1195.829956   \n",
       "2017-11-28  1204.880005  1205.339966  1188.520020  1193.599976  1193.599976   \n",
       "2017-11-29  1194.800049  1194.800049  1145.189941  1161.270020  1161.270020   \n",
       "2017-11-30  1167.099976  1178.569946  1160.000000  1176.750000  1176.750000   \n",
       "2017-12-01  1172.050049  1179.650024  1152.000000  1162.349976  1162.349976   \n",
       "2017-12-04  1173.849976  1175.199951  1128.000000  1133.949951  1133.949951   \n",
       "2017-12-05  1128.260010  1159.270020  1124.739990  1141.569946  1141.569946   \n",
       "2017-12-06  1137.989990  1155.890015  1136.079956  1152.349976  1152.349976   \n",
       "2017-12-07  1156.589966  1163.189941  1151.000000  1159.790039  1159.790039   \n",
       "2017-12-08  1170.400024  1172.790039  1157.099976  1162.000000  1162.000000   \n",
       "2017-12-11  1164.599976  1169.900024  1157.000000  1168.920044  1168.920044   \n",
       "2017-12-12  1166.510010  1173.599976  1161.609985  1165.079956  1165.079956   \n",
       "2017-12-13  1170.000000  1170.869995  1160.270020  1164.130005  1164.130005   \n",
       "2017-12-14  1163.709961  1177.930054  1162.449951  1174.260010  1174.260010   \n",
       "2017-12-15  1179.030029  1182.750000  1169.329956  1179.140015  1179.140015   \n",
       "2017-12-18  1187.369995  1194.780029  1180.910034  1190.579956  1190.579956   \n",
       "2017-12-19  1189.150024  1192.969971  1179.140015  1187.380005  1187.380005   \n",
       "2017-12-20  1190.500000  1191.000000  1176.000000  1177.619995  1177.619995   \n",
       "2017-12-21  1175.900024  1179.170044  1167.640015  1174.760010  1174.760010   \n",
       "2017-12-22  1172.079956  1174.619995  1167.829956  1168.359985  1168.359985   \n",
       "2017-12-26  1168.359985  1178.319946  1160.550049  1176.760010  1176.760010   \n",
       "2017-12-27  1179.910034  1187.290039  1175.609985  1182.260010  1182.260010   \n",
       "2017-12-28  1189.000000  1190.099976  1184.380005  1186.099976  1186.099976   \n",
       "2017-12-29  1182.349976  1184.000000  1167.500000  1169.469971  1169.469971   \n",
       "\n",
       "              Volume  \n",
       "Date                  \n",
       "2017-01-03   3521100  \n",
       "2017-01-04   2510500  \n",
       "2017-01-05   5830100  \n",
       "2017-01-06   5986200  \n",
       "2017-01-09   3440100  \n",
       "2017-01-10   2558400  \n",
       "2017-01-11   2992800  \n",
       "2017-01-12   4873900  \n",
       "2017-01-13   3791900  \n",
       "2017-01-17   3659400  \n",
       "2017-01-18   2354200  \n",
       "2017-01-19   2540800  \n",
       "2017-01-20   3376200  \n",
       "2017-01-23   2797500  \n",
       "2017-01-24   2971700  \n",
       "2017-01-25   3922600  \n",
       "2017-01-26   3586300  \n",
       "2017-01-27   2998700  \n",
       "2017-01-30   3747300  \n",
       "2017-01-31   3137200  \n",
       "2017-02-01   3850200  \n",
       "2017-02-02   7350500  \n",
       "2017-02-03  10868800  \n",
       "2017-02-06   3897300  \n",
       "2017-02-07   3466100  \n",
       "2017-02-08   2858000  \n",
       "2017-02-09   2484900  \n",
       "2017-02-10   2429600  \n",
       "2017-02-13   4172600  \n",
       "2017-02-14   2787900  \n",
       "...              ...  \n",
       "2017-11-16   2213300  \n",
       "2017-11-17   2413400  \n",
       "2017-11-20   2163900  \n",
       "2017-11-21   2479400  \n",
       "2017-11-22   3555300  \n",
       "2017-11-24   3528000  \n",
       "2017-11-27   6744000  \n",
       "2017-11-28   4559400  \n",
       "2017-11-29   9257500  \n",
       "2017-11-30   4509200  \n",
       "2017-12-01   4107100  \n",
       "2017-12-04   5931900  \n",
       "2017-12-05   4079800  \n",
       "2017-12-06   2853300  \n",
       "2017-12-07   2511600  \n",
       "2017-12-08   3050100  \n",
       "2017-12-11   2363500  \n",
       "2017-12-12   2235900  \n",
       "2017-12-13   2616800  \n",
       "2017-12-14   3214300  \n",
       "2017-12-15   4778600  \n",
       "2017-12-18   2947600  \n",
       "2017-12-19   2587800  \n",
       "2017-12-20   2371200  \n",
       "2017-12-21   2123100  \n",
       "2017-12-22   1585100  \n",
       "2017-12-26   2005200  \n",
       "2017-12-27   1867200  \n",
       "2017-12-28   1841700  \n",
       "2017-12-29   2688400  \n",
       "\n",
       "[251 rows x 6 columns]"
      ]
     },
     "execution_count": 33,
     "metadata": {},
     "output_type": "execute_result"
    }
   ],
   "source": [
    "amazon"
   ]
  },
  {
   "cell_type": "code",
   "execution_count": 34,
   "metadata": {
    "collapsed": true
   },
   "outputs": [],
   "source": [
    "google = web.DataReader(tickers[1], source, start,end)\n",
    "apple = web.DataReader(tickers[2], source, start,end)\n",
    "microsoft = web.DataReader(tickers[3], source, start,end)"
   ]
  },
  {
   "cell_type": "code",
   "execution_count": 35,
   "metadata": {
    "collapsed": false
   },
   "outputs": [
    {
     "name": "stdout",
     "output_type": "stream",
     "text": [
      "<class 'pandas.core.frame.DataFrame'>\n",
      "DatetimeIndex: 251 entries, 2017-01-03 to 2017-12-29\n",
      "Data columns (total 6 columns):\n",
      "Open         251 non-null float64\n",
      "High         251 non-null float64\n",
      "Low          251 non-null float64\n",
      "Close        251 non-null float64\n",
      "Adj Close    251 non-null float64\n",
      "Volume       251 non-null int64\n",
      "dtypes: float64(5), int64(1)\n",
      "memory usage: 13.7 KB\n"
     ]
    }
   ],
   "source": [
    "google.info()"
   ]
  },
  {
   "cell_type": "code",
   "execution_count": 40,
   "metadata": {
    "collapsed": false
   },
   "outputs": [],
   "source": [
    "stock_data = pd.DataFrame({'AMZN': amazon['Close'] ,\n",
    "                            'GOOG': google['Close'],\n",
    "                             'AAPL': apple['Close'],\n",
    "                             'MSFT':  microsoft['Close'],\n",
    "                          })"
   ]
  },
  {
   "cell_type": "code",
   "execution_count": 42,
   "metadata": {
    "collapsed": false
   },
   "outputs": [
    {
     "name": "stdout",
     "output_type": "stream",
     "text": [
      "<class 'pandas.core.frame.DataFrame'>\n",
      "DatetimeIndex: 251 entries, 2017-01-03 to 2017-12-29\n",
      "Data columns (total 4 columns):\n",
      "AAPL    251 non-null float64\n",
      "AMZN    251 non-null float64\n",
      "GOOG    251 non-null float64\n",
      "MSFT    251 non-null float64\n",
      "dtypes: float64(4)\n",
      "memory usage: 9.8 KB\n"
     ]
    }
   ],
   "source": [
    "stock_data.info()"
   ]
  },
  {
   "cell_type": "code",
   "execution_count": 43,
   "metadata": {
    "collapsed": false
   },
   "outputs": [
    {
     "name": "stdout",
     "output_type": "stream",
     "text": [
      "                  AAPL        AMZN        GOOG       MSFT\n",
      "Date                                                     \n",
      "2017-01-03  116.150002  753.669983  786.140015  62.580002\n",
      "2017-01-04  116.019997  757.179993  786.900024  62.299999\n",
      "2017-01-05  116.610001  780.450012  794.020020  62.299999\n",
      "2017-01-06  117.910004  795.989990  806.150024  62.840000\n",
      "2017-01-09  118.989998  796.919983  806.650024  62.639999\n"
     ]
    }
   ],
   "source": [
    "print(stock_data.head())"
   ]
  },
  {
   "cell_type": "code",
   "execution_count": 50,
   "metadata": {
    "collapsed": false
   },
   "outputs": [
    {
     "data": {
      "image/png": "[encoded data removed]",
      "text/plain": [
       "<matplotlib.figure.Figure at 0x1149548d0>"
      ]
     },
     "metadata": {},
     "output_type": "display_data"
    }
   ],
   "source": [
    "stock_data.plot()\n",
    "plt.show()"
   ]
  },
  {
   "cell_type": "code",
   "execution_count": 54,
   "metadata": {
    "collapsed": false
   },
   "outputs": [
    {
     "data": {
      "image/png": "[encoded data removed]",
      "text/plain": [
       "<matplotlib.figure.Figure at 0x114927890>"
      ]
     },
     "metadata": {},
     "output_type": "display_data"
    }
   ],
   "source": [
    "stock_data.plot(grid=True, title='2017 Performance')\n",
    "plt.show()"
   ]
  },
  {
   "cell_type": "code",
   "execution_count": 62,
   "metadata": {
    "collapsed": false
   },
   "outputs": [
    {
     "data": {
      "image/png": "[encoded data removed]",
      "text/plain": [
       "<matplotlib.figure.Figure at 0x114f071d0>"
      ]
     },
     "metadata": {},
     "output_type": "display_data"
    }
   ],
   "source": [
    "stock_data.plot(subplots=True)\n",
    "plt.show()"
   ]
  },
  {
   "cell_type": "markdown",
   "metadata": {},
   "source": [
    "## Get the relative change in the price"
   ]
  },
  {
   "cell_type": "markdown",
   "metadata": {},
   "source": [
    "`Absolute prices are in different range for each stocks. Inorder to find out how volatile the stock is, we have to find out the relative change in the price. In other words, we have to find out the returns of the stock with some known reference and plot them.\n",
    "`"
   ]
  },
  {
   "cell_type": "code",
   "execution_count": 57,
   "metadata": {
    "collapsed": false
   },
   "outputs": [],
   "source": [
    "stock_return = stock_data.apply(lambda x: x / x[0])"
   ]
  },
  {
   "cell_type": "code",
   "execution_count": 58,
   "metadata": {
    "collapsed": false
   },
   "outputs": [
    {
     "data": {
      "text/html": [
       "<div>\n",
       "<style>\n",
       "    .dataframe thead tr:only-child th {\n",
       "        text-align: right;\n",
       "    }\n",
       "\n",
       "    .dataframe thead th {\n",
       "        text-align: left;\n",
       "    }\n",
       "\n",
       "    .dataframe tbody tr th {\n",
       "        vertical-align: top;\n",
       "    }\n",
       "</style>\n",
       "<table border=\"1\" class=\"dataframe\">\n",
       "  <thead>\n",
       "    <tr style=\"text-align: right;\">\n",
       "      <th></th>\n",
       "      <th>AAPL</th>\n",
       "      <th>AMZN</th>\n",
       "      <th>GOOG</th>\n",
       "      <th>MSFT</th>\n",
       "    </tr>\n",
       "    <tr>\n",
       "      <th>Date</th>\n",
       "      <th></th>\n",
       "      <th></th>\n",
       "      <th></th>\n",
       "      <th></th>\n",
       "    </tr>\n",
       "  </thead>\n",
       "  <tbody>\n",
       "    <tr>\n",
       "      <th>2017-01-03</th>\n",
       "      <td>1.000000</td>\n",
       "      <td>1.000000</td>\n",
       "      <td>1.000000</td>\n",
       "      <td>1.000000</td>\n",
       "    </tr>\n",
       "    <tr>\n",
       "      <th>2017-01-04</th>\n",
       "      <td>0.998881</td>\n",
       "      <td>1.004657</td>\n",
       "      <td>1.000967</td>\n",
       "      <td>0.995526</td>\n",
       "    </tr>\n",
       "    <tr>\n",
       "      <th>2017-01-05</th>\n",
       "      <td>1.003960</td>\n",
       "      <td>1.035533</td>\n",
       "      <td>1.010024</td>\n",
       "      <td>0.995526</td>\n",
       "    </tr>\n",
       "    <tr>\n",
       "      <th>2017-01-06</th>\n",
       "      <td>1.015153</td>\n",
       "      <td>1.056152</td>\n",
       "      <td>1.025453</td>\n",
       "      <td>1.004155</td>\n",
       "    </tr>\n",
       "    <tr>\n",
       "      <th>2017-01-09</th>\n",
       "      <td>1.024451</td>\n",
       "      <td>1.057386</td>\n",
       "      <td>1.026090</td>\n",
       "      <td>1.000959</td>\n",
       "    </tr>\n",
       "  </tbody>\n",
       "</table>\n",
       "</div>"
      ],
      "text/plain": [
       "                AAPL      AMZN      GOOG      MSFT\n",
       "Date                                              \n",
       "2017-01-03  1.000000  1.000000  1.000000  1.000000\n",
       "2017-01-04  0.998881  1.004657  1.000967  0.995526\n",
       "2017-01-05  1.003960  1.035533  1.010024  0.995526\n",
       "2017-01-06  1.015153  1.056152  1.025453  1.004155\n",
       "2017-01-09  1.024451  1.057386  1.026090  1.000959"
      ]
     },
     "execution_count": 58,
     "metadata": {},
     "output_type": "execute_result"
    }
   ],
   "source": [
    "stock_return.head()"
   ]
  },
  {
   "cell_type": "code",
   "execution_count": 63,
   "metadata": {
    "collapsed": false
   },
   "outputs": [
    {
     "data": {
      "text/html": [
       "<div>\n",
       "<style>\n",
       "    .dataframe thead tr:only-child th {\n",
       "        text-align: right;\n",
       "    }\n",
       "\n",
       "    .dataframe thead th {\n",
       "        text-align: left;\n",
       "    }\n",
       "\n",
       "    .dataframe tbody tr th {\n",
       "        vertical-align: top;\n",
       "    }\n",
       "</style>\n",
       "<table border=\"1\" class=\"dataframe\">\n",
       "  <thead>\n",
       "    <tr style=\"text-align: right;\">\n",
       "      <th></th>\n",
       "      <th>AAPL</th>\n",
       "      <th>AMZN</th>\n",
       "      <th>GOOG</th>\n",
       "      <th>MSFT</th>\n",
       "    </tr>\n",
       "    <tr>\n",
       "      <th>Date</th>\n",
       "      <th></th>\n",
       "      <th></th>\n",
       "      <th></th>\n",
       "      <th></th>\n",
       "    </tr>\n",
       "  </thead>\n",
       "  <tbody>\n",
       "    <tr>\n",
       "      <th>2017-01-03</th>\n",
       "      <td>116.150002</td>\n",
       "      <td>753.669983</td>\n",
       "      <td>786.140015</td>\n",
       "      <td>62.580002</td>\n",
       "    </tr>\n",
       "    <tr>\n",
       "      <th>2017-01-04</th>\n",
       "      <td>116.019997</td>\n",
       "      <td>757.179993</td>\n",
       "      <td>786.900024</td>\n",
       "      <td>62.299999</td>\n",
       "    </tr>\n",
       "    <tr>\n",
       "      <th>2017-01-05</th>\n",
       "      <td>116.610001</td>\n",
       "      <td>780.450012</td>\n",
       "      <td>794.020020</td>\n",
       "      <td>62.299999</td>\n",
       "    </tr>\n",
       "    <tr>\n",
       "      <th>2017-01-06</th>\n",
       "      <td>117.910004</td>\n",
       "      <td>795.989990</td>\n",
       "      <td>806.150024</td>\n",
       "      <td>62.840000</td>\n",
       "    </tr>\n",
       "    <tr>\n",
       "      <th>2017-01-09</th>\n",
       "      <td>118.989998</td>\n",
       "      <td>796.919983</td>\n",
       "      <td>806.650024</td>\n",
       "      <td>62.639999</td>\n",
       "    </tr>\n",
       "  </tbody>\n",
       "</table>\n",
       "</div>"
      ],
      "text/plain": [
       "                  AAPL        AMZN        GOOG       MSFT\n",
       "Date                                                     \n",
       "2017-01-03  116.150002  753.669983  786.140015  62.580002\n",
       "2017-01-04  116.019997  757.179993  786.900024  62.299999\n",
       "2017-01-05  116.610001  780.450012  794.020020  62.299999\n",
       "2017-01-06  117.910004  795.989990  806.150024  62.840000\n",
       "2017-01-09  118.989998  796.919983  806.650024  62.639999"
      ]
     },
     "execution_count": 63,
     "metadata": {},
     "output_type": "execute_result"
    }
   ],
   "source": [
    "stock_data.head()"
   ]
  },
  {
   "cell_type": "code",
   "execution_count": 59,
   "metadata": {
    "collapsed": false
   },
   "outputs": [
    {
     "data": {
      "text/plain": [
       "<matplotlib.axes._subplots.AxesSubplot at 0x114996dd0>"
      ]
     },
     "execution_count": 59,
     "metadata": {},
     "output_type": "execute_result"
    }
   ],
   "source": [
    "stock_return.plot(grid=True)"
   ]
  },
  {
   "cell_type": "code",
   "execution_count": 60,
   "metadata": {
    "collapsed": false
   },
   "outputs": [
    {
     "data": {
      "image/png": "[encoded data removed]",
      "text/plain": [
       "<matplotlib.figure.Figure at 0x1110a3f50>"
      ]
     },
     "metadata": {},
     "output_type": "display_data"
    }
   ],
   "source": [
    "plt.show()"
   ]
  },
  {
   "cell_type": "code",
   "execution_count": null,
   "metadata": {
    "collapsed": true
   },
   "outputs": [],
   "source": []
  }
 ],
 "metadata": {
  "kernelspec": {
   "display_name": "Python 2",
   "language": "python",
   "name": "python2"
  },
  "language_info": {
   "codemirror_mode": {
    "name": "ipython",
    "version": 2
   },
   "file_extension": ".py",
   "mimetype": "text/x-python",
   "name": "python",
   "nbconvert_exporter": "python",
   "pygments_lexer": "ipython2",
   "version": "2.7.13"
  }
 },
 "nbformat": 4,
 "nbformat_minor": 2
}
